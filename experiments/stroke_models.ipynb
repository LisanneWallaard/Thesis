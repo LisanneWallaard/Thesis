{
  "cells": [
    {
      "cell_type": "markdown",
      "metadata": {
        "id": "2yNnJC2LmgrP"
      },
      "source": [
        "# Three machine learning models for predicting stroke\n",
        "Code is from [here](https://www.kaggle.com/code/joshuaswords/predicting-a-stroke-shap-lime-explainer-eli5)."
      ]
    },
    {
      "cell_type": "markdown",
      "source": [
        "##Installations"
      ],
      "metadata": {
        "id": "xsjJJsLPmuHM"
      }
    },
    {
      "cell_type": "code",
      "source": [
        "!pip install shap"
      ],
      "metadata": {
        "colab": {
          "base_uri": "https://localhost:8080/"
        },
        "id": "PKeTA9QwmoN7",
        "outputId": "a4dcf6c5-afac-4f4b-acf8-6748fc0ae598"
      },
      "execution_count": null,
      "outputs": [
        {
          "output_type": "stream",
          "name": "stdout",
          "text": [
            "Looking in indexes: https://pypi.org/simple, https://us-python.pkg.dev/colab-wheels/public/simple/\n",
            "Requirement already satisfied: shap in /usr/local/lib/python3.10/dist-packages (0.41.0)\n",
            "Requirement already satisfied: numpy in /usr/local/lib/python3.10/dist-packages (from shap) (1.22.4)\n",
            "Requirement already satisfied: scipy in /usr/local/lib/python3.10/dist-packages (from shap) (1.10.1)\n",
            "Requirement already satisfied: scikit-learn in /usr/local/lib/python3.10/dist-packages (from shap) (1.2.2)\n",
            "Requirement already satisfied: pandas in /usr/local/lib/python3.10/dist-packages (from shap) (1.5.3)\n",
            "Requirement already satisfied: tqdm>4.25.0 in /usr/local/lib/python3.10/dist-packages (from shap) (4.65.0)\n",
            "Requirement already satisfied: packaging>20.9 in /usr/local/lib/python3.10/dist-packages (from shap) (23.1)\n",
            "Requirement already satisfied: slicer==0.0.7 in /usr/local/lib/python3.10/dist-packages (from shap) (0.0.7)\n",
            "Requirement already satisfied: numba in /usr/local/lib/python3.10/dist-packages (from shap) (0.56.4)\n",
            "Requirement already satisfied: cloudpickle in /usr/local/lib/python3.10/dist-packages (from shap) (2.2.1)\n",
            "Requirement already satisfied: llvmlite<0.40,>=0.39.0dev0 in /usr/local/lib/python3.10/dist-packages (from numba->shap) (0.39.1)\n",
            "Requirement already satisfied: setuptools in /usr/local/lib/python3.10/dist-packages (from numba->shap) (67.7.2)\n",
            "Requirement already satisfied: python-dateutil>=2.8.1 in /usr/local/lib/python3.10/dist-packages (from pandas->shap) (2.8.2)\n",
            "Requirement already satisfied: pytz>=2020.1 in /usr/local/lib/python3.10/dist-packages (from pandas->shap) (2022.7.1)\n",
            "Requirement already satisfied: joblib>=1.1.1 in /usr/local/lib/python3.10/dist-packages (from scikit-learn->shap) (1.2.0)\n",
            "Requirement already satisfied: threadpoolctl>=2.0.0 in /usr/local/lib/python3.10/dist-packages (from scikit-learn->shap) (3.1.0)\n",
            "Requirement already satisfied: six>=1.5 in /usr/local/lib/python3.10/dist-packages (from python-dateutil>=2.8.1->pandas->shap) (1.16.0)\n"
          ]
        }
      ]
    },
    {
      "cell_type": "markdown",
      "source": [
        "##Imports"
      ],
      "metadata": {
        "id": "l5-8GQjMqFIB"
      }
    },
    {
      "cell_type": "code",
      "execution_count": null,
      "metadata": {
        "id": "S41bvB-fmgrT"
      },
      "outputs": [],
      "source": [
        "import numpy as np \n",
        "import pandas as pd \n",
        "import shap\n",
        "import pickle\n",
        "\n",
        "from imblearn.over_sampling import SMOTE\n",
        "from sklearn.pipeline import Pipeline\n",
        "from sklearn.preprocessing import StandardScaler,LabelEncoder\n",
        "from sklearn.model_selection import train_test_split,cross_val_score, GridSearchCV\n",
        "from sklearn.linear_model import LinearRegression,LogisticRegression\n",
        "from sklearn.tree import DecisionTreeRegressor,DecisionTreeClassifier\n",
        "from sklearn.ensemble import RandomForestClassifier\n",
        "from sklearn.svm import SVC\n",
        "from sklearn.metrics import classification_report, confusion_matrix\n",
        "from sklearn.metrics import accuracy_score, recall_score, roc_auc_score, precision_score, f1_score\n",
        "\n",
        "import matplotlib.pyplot as plt\n",
        "import warnings\n",
        "warnings.filterwarnings('ignore')"
      ]
    },
    {
      "cell_type": "markdown",
      "source": [
        "##Load dataset"
      ],
      "metadata": {
        "id": "PBP1azrnqo5x"
      }
    },
    {
      "cell_type": "code",
      "execution_count": null,
      "metadata": {
        "colab": {
          "base_uri": "https://localhost:8080/",
          "height": 206
        },
        "id": "EaIHfQXvmgrV",
        "outputId": "d58ddfda-b52c-4c8b-e19f-c4789f2dc0ea"
      },
      "outputs": [
        {
          "output_type": "execute_result",
          "data": {
            "text/plain": [
              "      id  gender   age  hypertension  heart_disease ever_married  \\\n",
              "0   9046    Male  67.0             0              1          Yes   \n",
              "1  51676  Female  61.0             0              0          Yes   \n",
              "2  31112    Male  80.0             0              1          Yes   \n",
              "3  60182  Female  49.0             0              0          Yes   \n",
              "4   1665  Female  79.0             1              0          Yes   \n",
              "\n",
              "       work_type Residence_type  avg_glucose_level   bmi   smoking_status  \\\n",
              "0        Private          Urban             228.69  36.6  formerly smoked   \n",
              "1  Self-employed          Rural             202.21   NaN     never smoked   \n",
              "2        Private          Rural             105.92  32.5     never smoked   \n",
              "3        Private          Urban             171.23  34.4           smokes   \n",
              "4  Self-employed          Rural             174.12  24.0     never smoked   \n",
              "\n",
              "   stroke  \n",
              "0       1  \n",
              "1       1  \n",
              "2       1  \n",
              "3       1  \n",
              "4       1  "
            ],
            "text/html": [
              "\n",
              "  <div id=\"df-f831e218-cbe3-4101-aa94-6393b7cb1b51\">\n",
              "    <div class=\"colab-df-container\">\n",
              "      <div>\n",
              "<style scoped>\n",
              "    .dataframe tbody tr th:only-of-type {\n",
              "        vertical-align: middle;\n",
              "    }\n",
              "\n",
              "    .dataframe tbody tr th {\n",
              "        vertical-align: top;\n",
              "    }\n",
              "\n",
              "    .dataframe thead th {\n",
              "        text-align: right;\n",
              "    }\n",
              "</style>\n",
              "<table border=\"1\" class=\"dataframe\">\n",
              "  <thead>\n",
              "    <tr style=\"text-align: right;\">\n",
              "      <th></th>\n",
              "      <th>id</th>\n",
              "      <th>gender</th>\n",
              "      <th>age</th>\n",
              "      <th>hypertension</th>\n",
              "      <th>heart_disease</th>\n",
              "      <th>ever_married</th>\n",
              "      <th>work_type</th>\n",
              "      <th>Residence_type</th>\n",
              "      <th>avg_glucose_level</th>\n",
              "      <th>bmi</th>\n",
              "      <th>smoking_status</th>\n",
              "      <th>stroke</th>\n",
              "    </tr>\n",
              "  </thead>\n",
              "  <tbody>\n",
              "    <tr>\n",
              "      <th>0</th>\n",
              "      <td>9046</td>\n",
              "      <td>Male</td>\n",
              "      <td>67.0</td>\n",
              "      <td>0</td>\n",
              "      <td>1</td>\n",
              "      <td>Yes</td>\n",
              "      <td>Private</td>\n",
              "      <td>Urban</td>\n",
              "      <td>228.69</td>\n",
              "      <td>36.6</td>\n",
              "      <td>formerly smoked</td>\n",
              "      <td>1</td>\n",
              "    </tr>\n",
              "    <tr>\n",
              "      <th>1</th>\n",
              "      <td>51676</td>\n",
              "      <td>Female</td>\n",
              "      <td>61.0</td>\n",
              "      <td>0</td>\n",
              "      <td>0</td>\n",
              "      <td>Yes</td>\n",
              "      <td>Self-employed</td>\n",
              "      <td>Rural</td>\n",
              "      <td>202.21</td>\n",
              "      <td>NaN</td>\n",
              "      <td>never smoked</td>\n",
              "      <td>1</td>\n",
              "    </tr>\n",
              "    <tr>\n",
              "      <th>2</th>\n",
              "      <td>31112</td>\n",
              "      <td>Male</td>\n",
              "      <td>80.0</td>\n",
              "      <td>0</td>\n",
              "      <td>1</td>\n",
              "      <td>Yes</td>\n",
              "      <td>Private</td>\n",
              "      <td>Rural</td>\n",
              "      <td>105.92</td>\n",
              "      <td>32.5</td>\n",
              "      <td>never smoked</td>\n",
              "      <td>1</td>\n",
              "    </tr>\n",
              "    <tr>\n",
              "      <th>3</th>\n",
              "      <td>60182</td>\n",
              "      <td>Female</td>\n",
              "      <td>49.0</td>\n",
              "      <td>0</td>\n",
              "      <td>0</td>\n",
              "      <td>Yes</td>\n",
              "      <td>Private</td>\n",
              "      <td>Urban</td>\n",
              "      <td>171.23</td>\n",
              "      <td>34.4</td>\n",
              "      <td>smokes</td>\n",
              "      <td>1</td>\n",
              "    </tr>\n",
              "    <tr>\n",
              "      <th>4</th>\n",
              "      <td>1665</td>\n",
              "      <td>Female</td>\n",
              "      <td>79.0</td>\n",
              "      <td>1</td>\n",
              "      <td>0</td>\n",
              "      <td>Yes</td>\n",
              "      <td>Self-employed</td>\n",
              "      <td>Rural</td>\n",
              "      <td>174.12</td>\n",
              "      <td>24.0</td>\n",
              "      <td>never smoked</td>\n",
              "      <td>1</td>\n",
              "    </tr>\n",
              "  </tbody>\n",
              "</table>\n",
              "</div>\n",
              "      <button class=\"colab-df-convert\" onclick=\"convertToInteractive('df-f831e218-cbe3-4101-aa94-6393b7cb1b51')\"\n",
              "              title=\"Convert this dataframe to an interactive table.\"\n",
              "              style=\"display:none;\">\n",
              "        \n",
              "  <svg xmlns=\"http://www.w3.org/2000/svg\" height=\"24px\"viewBox=\"0 0 24 24\"\n",
              "       width=\"24px\">\n",
              "    <path d=\"M0 0h24v24H0V0z\" fill=\"none\"/>\n",
              "    <path d=\"M18.56 5.44l.94 2.06.94-2.06 2.06-.94-2.06-.94-.94-2.06-.94 2.06-2.06.94zm-11 1L8.5 8.5l.94-2.06 2.06-.94-2.06-.94L8.5 2.5l-.94 2.06-2.06.94zm10 10l.94 2.06.94-2.06 2.06-.94-2.06-.94-.94-2.06-.94 2.06-2.06.94z\"/><path d=\"M17.41 7.96l-1.37-1.37c-.4-.4-.92-.59-1.43-.59-.52 0-1.04.2-1.43.59L10.3 9.45l-7.72 7.72c-.78.78-.78 2.05 0 2.83L4 21.41c.39.39.9.59 1.41.59.51 0 1.02-.2 1.41-.59l7.78-7.78 2.81-2.81c.8-.78.8-2.07 0-2.86zM5.41 20L4 18.59l7.72-7.72 1.47 1.35L5.41 20z\"/>\n",
              "  </svg>\n",
              "      </button>\n",
              "      \n",
              "  <style>\n",
              "    .colab-df-container {\n",
              "      display:flex;\n",
              "      flex-wrap:wrap;\n",
              "      gap: 12px;\n",
              "    }\n",
              "\n",
              "    .colab-df-convert {\n",
              "      background-color: #E8F0FE;\n",
              "      border: none;\n",
              "      border-radius: 50%;\n",
              "      cursor: pointer;\n",
              "      display: none;\n",
              "      fill: #1967D2;\n",
              "      height: 32px;\n",
              "      padding: 0 0 0 0;\n",
              "      width: 32px;\n",
              "    }\n",
              "\n",
              "    .colab-df-convert:hover {\n",
              "      background-color: #E2EBFA;\n",
              "      box-shadow: 0px 1px 2px rgba(60, 64, 67, 0.3), 0px 1px 3px 1px rgba(60, 64, 67, 0.15);\n",
              "      fill: #174EA6;\n",
              "    }\n",
              "\n",
              "    [theme=dark] .colab-df-convert {\n",
              "      background-color: #3B4455;\n",
              "      fill: #D2E3FC;\n",
              "    }\n",
              "\n",
              "    [theme=dark] .colab-df-convert:hover {\n",
              "      background-color: #434B5C;\n",
              "      box-shadow: 0px 1px 3px 1px rgba(0, 0, 0, 0.15);\n",
              "      filter: drop-shadow(0px 1px 2px rgba(0, 0, 0, 0.3));\n",
              "      fill: #FFFFFF;\n",
              "    }\n",
              "  </style>\n",
              "\n",
              "      <script>\n",
              "        const buttonEl =\n",
              "          document.querySelector('#df-f831e218-cbe3-4101-aa94-6393b7cb1b51 button.colab-df-convert');\n",
              "        buttonEl.style.display =\n",
              "          google.colab.kernel.accessAllowed ? 'block' : 'none';\n",
              "\n",
              "        async function convertToInteractive(key) {\n",
              "          const element = document.querySelector('#df-f831e218-cbe3-4101-aa94-6393b7cb1b51');\n",
              "          const dataTable =\n",
              "            await google.colab.kernel.invokeFunction('convertToInteractive',\n",
              "                                                     [key], {});\n",
              "          if (!dataTable) return;\n",
              "\n",
              "          const docLinkHtml = 'Like what you see? Visit the ' +\n",
              "            '<a target=\"_blank\" href=https://colab.research.google.com/notebooks/data_table.ipynb>data table notebook</a>'\n",
              "            + ' to learn more about interactive tables.';\n",
              "          element.innerHTML = '';\n",
              "          dataTable['output_type'] = 'display_data';\n",
              "          await google.colab.output.renderOutput(dataTable, element);\n",
              "          const docLink = document.createElement('div');\n",
              "          docLink.innerHTML = docLinkHtml;\n",
              "          element.appendChild(docLink);\n",
              "        }\n",
              "      </script>\n",
              "    </div>\n",
              "  </div>\n",
              "  "
            ]
          },
          "metadata": {},
          "execution_count": 23
        }
      ],
      "source": [
        "df = pd.read_csv('healthcare-dataset-stroke-data.csv')\n",
        "df.head()"
      ]
    },
    {
      "cell_type": "markdown",
      "source": [
        "##Deal with missing values"
      ],
      "metadata": {
        "id": "qx3-7Allq40E"
      }
    },
    {
      "cell_type": "code",
      "source": [
        "df.isnull().sum()"
      ],
      "metadata": {
        "id": "stNoC1-3M-QK",
        "colab": {
          "base_uri": "https://localhost:8080/"
        },
        "outputId": "016b50db-3841-4c4d-a2f1-ea43ad74c9f0"
      },
      "execution_count": null,
      "outputs": [
        {
          "output_type": "execute_result",
          "data": {
            "text/plain": [
              "id                     0\n",
              "gender                 0\n",
              "age                    0\n",
              "hypertension           0\n",
              "heart_disease          0\n",
              "ever_married           0\n",
              "work_type              0\n",
              "Residence_type         0\n",
              "avg_glucose_level      0\n",
              "bmi                  201\n",
              "smoking_status         0\n",
              "stroke                 0\n",
              "dtype: int64"
            ]
          },
          "metadata": {},
          "execution_count": 24
        }
      ]
    },
    {
      "cell_type": "code",
      "source": [
        "# A really fantsatic and intelligent way to deal with blanks, from Thoman Konstantin in: https://www.kaggle.com/thomaskonstantin/analyzing-and-modeling-stroke-data\n",
        "\n",
        "DT_bmi_pipe = Pipeline( steps=[ \n",
        "                               ('scale',StandardScaler()),\n",
        "                               ('lr',DecisionTreeRegressor(random_state=42))\n",
        "                              ])\n",
        "X = df[['age','gender','bmi']].copy()\n",
        "X.gender = X.gender.replace({'Male':0,'Female':1,'Other':-1}).astype(np.uint8)\n",
        "\n",
        "Missing = X[X.bmi.isna()]\n",
        "X = X[~X.bmi.isna()]\n",
        "Y = X.pop('bmi')\n",
        "DT_bmi_pipe.fit(X,Y)\n",
        "predicted_bmi = pd.Series(DT_bmi_pipe.predict(Missing[['age','gender']]),index=Missing.index)\n",
        "df.loc[Missing.index,'bmi'] = predicted_bmi"
      ],
      "metadata": {
        "id": "pYs10rq5qDQ8"
      },
      "execution_count": null,
      "outputs": []
    },
    {
      "cell_type": "code",
      "source": [
        "print('Missing values: ',sum(df.isnull().sum()))"
      ],
      "metadata": {
        "id": "YaEs0r13NE5A",
        "colab": {
          "base_uri": "https://localhost:8080/"
        },
        "outputId": "93cedd4e-c40c-491a-e2e9-37a8c366d447"
      },
      "execution_count": null,
      "outputs": [
        {
          "output_type": "stream",
          "name": "stdout",
          "text": [
            "Missing values:  0\n"
          ]
        }
      ]
    },
    {
      "cell_type": "markdown",
      "source": [
        "## Model preparation"
      ],
      "metadata": {
        "id": "57Z0aozDrJ0K"
      }
    },
    {
      "cell_type": "code",
      "execution_count": null,
      "metadata": {
        "id": "4HSAg4ivmgrW"
      },
      "outputs": [],
      "source": [
        "# Encoding categorical values\n",
        "df['gender'] = df['gender'].replace({'Male':0,'Female':1,'Other':-1}).astype(np.uint8)\n",
        "df['Residence_type'] = df['Residence_type'].replace({'Rural':0,'Urban':1}).astype(np.uint8)\n",
        "df['work_type'] = df['work_type'].replace({'Private':0,'Self-employed':1,'Govt_job':2,'children':-1,'Never_worked':-2}).astype(np.uint8)\n",
        "\n",
        "X  = df[['gender','age','hypertension','heart_disease','work_type','avg_glucose_level','bmi']]\n",
        "y = df['stroke']\n",
        "X_train, X_test, y_train, y_test = train_test_split(X, y, train_size=0.3, random_state=42)\n",
        "\n",
        "# Our data is biased, we can fix this with SMOTE\n",
        "oversample = SMOTE()\n",
        "X_train_resh, y_train_resh = oversample.fit_resample(X_train, y_train.ravel())"
      ]
    },
    {
      "cell_type": "code",
      "source": [
        "print(X_train_resh)\n",
        "print(y_train_resh)\n",
        "\n",
        "print('Mean age', X_train_resh['age'].mean())\n",
        "print('Std age', X_train_resh['age'].std())\n",
        "\n",
        "print('Mean avg_glucose_level', X_train_resh['avg_glucose_level'].mean())\n",
        "print('Std avg_glucose_level', X_train_resh['avg_glucose_level'].std())\n",
        "\n",
        "print('Mean bmi', X_train_resh['bmi'].mean())\n",
        "print('Std bmi', X_train_resh['bmi'].std())"
      ],
      "metadata": {
        "colab": {
          "base_uri": "https://localhost:8080/"
        },
        "id": "tw66Q0156ld7",
        "outputId": "8f228b6a-d161-4be4-d398-e9e5cbc0664d"
      },
      "execution_count": null,
      "outputs": [
        {
          "output_type": "stream",
          "name": "stdout",
          "text": [
            "      gender        age  hypertension  heart_disease  work_type  \\\n",
            "0          1  71.000000             0              0          0   \n",
            "1          0  45.000000             0              0          0   \n",
            "2          1  43.000000             0              0          2   \n",
            "3          1  52.000000             1              0          1   \n",
            "4          1  38.000000             0              0          0   \n",
            "...      ...        ...           ...            ...        ...   \n",
            "2909       0  72.883409             0              0          0   \n",
            "2910       0  70.464066             0              0          0   \n",
            "2911       1  81.000000             0              0          0   \n",
            "2912       0  76.352822             0              0          0   \n",
            "2913       1  81.000000             0              0          0   \n",
            "\n",
            "      avg_glucose_level        bmi  \n",
            "0            240.810000  27.400000  \n",
            "1             99.910000  30.900000  \n",
            "2             70.080000  26.600000  \n",
            "3            233.290000  48.900000  \n",
            "4            217.550000  31.589130  \n",
            "...                 ...        ...  \n",
            "2909          72.783579  32.528250  \n",
            "2910          75.854907  24.789528  \n",
            "2911          80.233042  25.563891  \n",
            "2912          90.308219  31.716860  \n",
            "2913          80.215997  25.205936  \n",
            "\n",
            "[2914 rows x 7 columns]\n",
            "[0 0 0 ... 1 1 1]\n",
            "Mean age 54.50345043158224\n",
            "Std age 21.96663912541148\n",
            "Mean avg_glucose_level 114.78044516684268\n",
            "Std avg_glucose_level 51.27342032678046\n",
            "Mean bmi 29.87487377412321\n",
            "Std bmi 6.618479196831395\n"
          ]
        }
      ]
    },
    {
      "cell_type": "markdown",
      "source": [
        "## Models"
      ],
      "metadata": {
        "id": "94WpgZRArTYN"
      }
    },
    {
      "cell_type": "code",
      "execution_count": null,
      "metadata": {
        "colab": {
          "base_uri": "https://localhost:8080/"
        },
        "id": "yH2_pB5hmgrX",
        "outputId": "a1f91378-516b-4a0c-a522-7a9f526af2bd"
      },
      "outputs": [
        {
          "output_type": "stream",
          "name": "stdout",
          "text": [
            "Mean f1 scores:\n",
            "Random Forest mean : 0.9401521588275541\n",
            "SVM mean : 0.8771911956464367\n",
            "Logistic Regression mean : 0.8304671328853228\n"
          ]
        }
      ],
      "source": [
        "# Scale our data in pipeline, then split\n",
        "rf_pipeline = Pipeline(steps = [('scale',StandardScaler()),('RF',RandomForestClassifier(random_state=42))])\n",
        "svm_pipeline = Pipeline(steps = [('scale',StandardScaler()),('SVM',SVC(probability=True, random_state=42))])\n",
        "logreg_pipeline = Pipeline(steps = [('scale',StandardScaler()),('LR',LogisticRegression(random_state=42))])\n",
        "\n",
        "rf_cv = cross_val_score(rf_pipeline,X_train_resh,y_train_resh,cv=10,scoring='f1')\n",
        "svm_cv = cross_val_score(svm_pipeline,X_train_resh,y_train_resh,cv=10,scoring='f1')\n",
        "logreg_cv = cross_val_score(logreg_pipeline,X_train_resh,y_train_resh,cv=10,scoring='f1')\n",
        "\n",
        "print('Mean f1 scores:')\n",
        "print('Random Forest mean :',cross_val_score(rf_pipeline,X_train_resh,y_train_resh,cv=10,scoring='f1').mean())\n",
        "print('SVM mean :',cross_val_score(svm_pipeline,X_train_resh,y_train_resh,cv=10,scoring='f1').mean())\n",
        "print('Logistic Regression mean :',cross_val_score(logreg_pipeline,X_train_resh,y_train_resh,cv=10,scoring='f1').mean())"
      ]
    },
    {
      "cell_type": "code",
      "execution_count": null,
      "metadata": {
        "colab": {
          "base_uri": "https://localhost:8080/"
        },
        "id": "ydrZ5N1hmgrY",
        "outputId": "fea9d8ef-845c-4015-d0ac-4cfe1e93e281"
      },
      "outputs": [
        {
          "output_type": "stream",
          "name": "stdout",
          "text": [
            "Mean f1 scores:\n",
            "RF mean : 0.17425742574257427\n",
            "SVM mean : 0.15869786368260427\n",
            "LR mean : 0.19136960600375236\n"
          ]
        }
      ],
      "source": [
        "rf_pipeline.fit(X_train_resh,y_train_resh)\n",
        "svm_pipeline.fit(X_train_resh,y_train_resh)\n",
        "logreg_pipeline.fit(X_train_resh,y_train_resh)\n",
        "\n",
        "rf_pred = rf_pipeline.predict(X_test)\n",
        "svm_pred = svm_pipeline.predict(X_test)\n",
        "logreg_pred = logreg_pipeline.predict(X_test)\n",
        "\n",
        "rf_cm = confusion_matrix(y_test,rf_pred )\n",
        "svm_cm = confusion_matrix(y_test,svm_pred)\n",
        "logreg_cm = confusion_matrix(y_test,logreg_pred )\n",
        "\n",
        "rf_f1 = f1_score(y_test,rf_pred)\n",
        "svm_f1 = f1_score(y_test,svm_pred)\n",
        "logreg_f1 = f1_score(y_test,logreg_pred)\n",
        "\n",
        "print('Mean f1 scores:')\n",
        "\n",
        "print('RF mean :',rf_f1)\n",
        "print('SVM mean :',svm_f1)\n",
        "print('LR mean :',logreg_f1)"
      ]
    },
    {
      "cell_type": "code",
      "source": [
        "print(\"Report Random Forest:\\n\", classification_report(y_test,rf_pred))\n",
        "print(\"Report SVM:\\n\", classification_report(y_test,svm_pred))\n",
        "print(\"Report Logistic Regression:\\n\", classification_report(y_test,logreg_pred))"
      ],
      "metadata": {
        "id": "LlC9eZyyswhq",
        "colab": {
          "base_uri": "https://localhost:8080/"
        },
        "outputId": "80cb7c8b-0e52-49cd-e172-e764a5f1c648"
      },
      "execution_count": null,
      "outputs": [
        {
          "output_type": "stream",
          "name": "stdout",
          "text": [
            "Report Random Forest:\n",
            "               precision    recall  f1-score   support\n",
            "\n",
            "           0       0.96      0.92      0.94      3404\n",
            "           1       0.13      0.25      0.17       173\n",
            "\n",
            "    accuracy                           0.88      3577\n",
            "   macro avg       0.55      0.58      0.56      3577\n",
            "weighted avg       0.92      0.88      0.90      3577\n",
            "\n",
            "Report SVM:\n",
            "               precision    recall  f1-score   support\n",
            "\n",
            "           0       0.97      0.78      0.87      3404\n",
            "           1       0.10      0.45      0.16       173\n",
            "\n",
            "    accuracy                           0.77      3577\n",
            "   macro avg       0.53      0.62      0.51      3577\n",
            "weighted avg       0.92      0.77      0.83      3577\n",
            "\n",
            "Report Logistic Regression:\n",
            "               precision    recall  f1-score   support\n",
            "\n",
            "           0       0.97      0.77      0.86      3404\n",
            "           1       0.11      0.59      0.19       173\n",
            "\n",
            "    accuracy                           0.76      3577\n",
            "   macro avg       0.54      0.68      0.52      3577\n",
            "weighted avg       0.93      0.76      0.83      3577\n",
            "\n"
          ]
        }
      ]
    },
    {
      "cell_type": "markdown",
      "source": [
        "##Hyperparameter optimization Random Forest"
      ],
      "metadata": {
        "id": "rzMlQBnHuFZf"
      }
    },
    {
      "cell_type": "code",
      "source": [
        "n_estimators =[64,100,128,200]\n",
        "max_features = [2,3,5,7]\n",
        "bootstrap = [True,False]\n",
        "\n",
        "param_grid = {'n_estimators':n_estimators,\n",
        "             'max_features':max_features,\n",
        "             'bootstrap':bootstrap}\n",
        "\n",
        "rfc = RandomForestClassifier()\n",
        "grid = GridSearchCV(rfc,param_grid)\n",
        "grid.fit(X_train_resh,y_train_resh)\n",
        "\n",
        "print(grid.best_params_)"
      ],
      "metadata": {
        "id": "WXdGa1gcuQYP",
        "colab": {
          "base_uri": "https://localhost:8080/"
        },
        "outputId": "8731a162-c90b-480c-8f0a-c39d1cdc3327"
      },
      "execution_count": null,
      "outputs": [
        {
          "output_type": "stream",
          "name": "stdout",
          "text": [
            "{'bootstrap': False, 'max_features': 2, 'n_estimators': 100}\n"
          ]
        }
      ]
    },
    {
      "cell_type": "code",
      "source": [
        "# Let's use those params of the other notebook now\n",
        "rf_pipeline = Pipeline(steps = [('scale',StandardScaler()),('RF',RandomForestClassifier(max_features=3,n_estimators=128,bootstrap=False))])\n",
        "rf_pipeline.fit(X_train_resh,y_train_resh)\n",
        "rfc_tuned_pred = rf_pipeline.predict(X_test)\n",
        "\n",
        "print(classification_report(y_test,rfc_tuned_pred))"
      ],
      "metadata": {
        "id": "HVLGrgS3wP6s",
        "colab": {
          "base_uri": "https://localhost:8080/"
        },
        "outputId": "791954dc-830a-4f8a-bd8b-013d69af9702"
      },
      "execution_count": null,
      "outputs": [
        {
          "output_type": "stream",
          "name": "stdout",
          "text": [
            "              precision    recall  f1-score   support\n",
            "\n",
            "           0       0.96      0.92      0.94      3404\n",
            "           1       0.11      0.20      0.15       173\n",
            "\n",
            "    accuracy                           0.89      3577\n",
            "   macro avg       0.54      0.56      0.54      3577\n",
            "weighted avg       0.92      0.89      0.90      3577\n",
            "\n"
          ]
        }
      ]
    },
    {
      "cell_type": "markdown",
      "source": [
        "##Hyperparameter optimization Logistic Regression"
      ],
      "metadata": {
        "id": "rjnSKjDqwrdl"
      }
    },
    {
      "cell_type": "code",
      "source": [
        "penalty = ['l1','l2']\n",
        "C = [0.001, 0.01, 0.1, 1, 10, 100] \n",
        "\n",
        "log_param_grid = {'penalty': penalty, \n",
        "                  'C': C}\n",
        "logreg = LogisticRegression()\n",
        "grid = GridSearchCV(logreg,log_param_grid)\n",
        "\n",
        "grid.fit(X_train_resh,y_train_resh)\n",
        "\n",
        "print(grid.best_params_)"
      ],
      "metadata": {
        "id": "gatc_NpxwxTc",
        "colab": {
          "base_uri": "https://localhost:8080/"
        },
        "outputId": "1e564a28-75a2-4397-dd78-9b1e5a31faa9"
      },
      "execution_count": null,
      "outputs": [
        {
          "output_type": "stream",
          "name": "stdout",
          "text": [
            "{'C': 100, 'penalty': 'l2'}\n"
          ]
        }
      ]
    },
    {
      "cell_type": "code",
      "source": [
        "# Let's use those params of the other notebook now\n",
        "logreg_pipeline = Pipeline(steps = [('scale',StandardScaler()),('LR',LogisticRegression(C=0.1,penalty='l2',random_state=42))])\n",
        "logreg_pipeline.fit(X_train_resh,y_train_resh)\n",
        "logreg_tuned_pred   = logreg_pipeline.predict(X_test)\n",
        "\n",
        "print(classification_report(y_test,logreg_tuned_pred))"
      ],
      "metadata": {
        "id": "dknhmOC00UE-",
        "colab": {
          "base_uri": "https://localhost:8080/"
        },
        "outputId": "4a54b8a7-4eda-4ac1-fb0a-b2fa2c9c8eb2"
      },
      "execution_count": null,
      "outputs": [
        {
          "output_type": "stream",
          "name": "stdout",
          "text": [
            "              precision    recall  f1-score   support\n",
            "\n",
            "           0       0.97      0.77      0.86      3404\n",
            "           1       0.11      0.60      0.19       173\n",
            "\n",
            "    accuracy                           0.76      3577\n",
            "   macro avg       0.54      0.68      0.53      3577\n",
            "weighted avg       0.93      0.76      0.83      3577\n",
            "\n"
          ]
        }
      ]
    },
    {
      "cell_type": "markdown",
      "source": [
        "##Hyperparameter optimization SVM"
      ],
      "metadata": {
        "id": "P40ukFTKyVgo"
      }
    },
    {
      "cell_type": "code",
      "source": [
        "# defining parameter range \n",
        "svm_param_grid = {'C': [0.1, 1, 10, 100, 1000],  \n",
        "             'gamma': [1, 0.1, 0.01, 0.001, 0.0001], \n",
        "             'kernel': ['rbf']} \n",
        "svm = SVC(probability=True, random_state=42)\n",
        "grid = GridSearchCV(svm,svm_param_grid)\n",
        "\n",
        "grid.fit(X_train_resh,y_train_resh)\n",
        "print(grid.best_params_)"
      ],
      "metadata": {
        "id": "8Duido-Iw0gg",
        "colab": {
          "base_uri": "https://localhost:8080/"
        },
        "outputId": "76844a4f-89c7-4f3f-8c97-8f138893afa9"
      },
      "execution_count": null,
      "outputs": [
        {
          "output_type": "stream",
          "name": "stdout",
          "text": [
            "{'C': 100, 'gamma': 0.01, 'kernel': 'rbf'}\n"
          ]
        }
      ]
    },
    {
      "cell_type": "code",
      "source": [
        "# Let's use those params of the other notebook now\n",
        "svm_pipeline = Pipeline(steps = [('scale',StandardScaler()),('SVM',SVC(probability=True, C=1000,gamma=0.01,kernel='rbf',random_state=42))])\n",
        "svm_pipeline.fit(X_train_resh,y_train_resh)\n",
        "svm_tuned_pred  = svm_pipeline.predict(X_test)\n",
        "\n",
        "print(classification_report(y_test,svm_tuned_pred))"
      ],
      "metadata": {
        "id": "Tmgwavhp05J2",
        "colab": {
          "base_uri": "https://localhost:8080/"
        },
        "outputId": "a399c2b2-8cb1-4254-8006-0f86066f4e4d"
      },
      "execution_count": null,
      "outputs": [
        {
          "output_type": "stream",
          "name": "stdout",
          "text": [
            "              precision    recall  f1-score   support\n",
            "\n",
            "           0       0.96      0.78      0.86      3404\n",
            "           1       0.09      0.44      0.15       173\n",
            "\n",
            "    accuracy                           0.76      3577\n",
            "   macro avg       0.53      0.61      0.51      3577\n",
            "weighted avg       0.92      0.76      0.83      3577\n",
            "\n"
          ]
        }
      ]
    },
    {
      "cell_type": "markdown",
      "source": [
        "## Shap values & feature importances"
      ],
      "metadata": {
        "id": "1gDixrurmeoe"
      }
    },
    {
      "cell_type": "code",
      "source": [
        "# Training data in df\n",
        "X_train_shap = pd.DataFrame(X_train_resh, columns= X.columns)\n",
        "# Names of the features\n",
        "feature_names = X_train_shap.columns"
      ],
      "metadata": {
        "id": "LlahwnolmjJg"
      },
      "execution_count": null,
      "outputs": []
    },
    {
      "cell_type": "markdown",
      "source": [
        "### Logistic Regression"
      ],
      "metadata": {
        "id": "1ag4ECvinf93"
      }
    },
    {
      "cell_type": "code",
      "source": [
        "expl_lr_stroke = shap.Explainer(logreg_pipeline[-1], X_train_shap)\n",
        "shap_val_lr_stroke = expl_lr_stroke(X_train_shap)\n",
        "shap.plots.bar(shap_val_lr_stroke)\n",
        "# shap.summary_plot(shap_val_lr_stroke, plot_type='bar')"
      ],
      "metadata": {
        "colab": {
          "base_uri": "https://localhost:8080/",
          "height": 470
        },
        "id": "fqiS4DIBnrLm",
        "outputId": "ba2abf89-dac6-49ad-9c37-860cd1f5a7a9"
      },
      "execution_count": null,
      "outputs": [
        {
          "output_type": "display_data",
          "data": {
            "text/plain": [
              "<Figure size 800x500 with 1 Axes>"
            ],
            "image/png": "[encoded data removed]"
          },
          "metadata": {}
        }
      ]
    },
    {
      "cell_type": "code",
      "source": [
        "pickle.dump(expl_lr_stroke,open(\"expl_lr_stroke.pkl\",\"wb\"))"
      ],
      "metadata": {
        "id": "J3ddTH1Pt9sl"
      },
      "execution_count": null,
      "outputs": []
    },
    {
      "cell_type": "code",
      "source": [
        "pickle.dump(shap_val_lr_stroke,open(\"shap_val_lr_stroke.pkl\",\"wb\"))"
      ],
      "metadata": {
        "id": "xe9KI9But-cc"
      },
      "execution_count": null,
      "outputs": []
    },
    {
      "cell_type": "markdown",
      "source": [
        "### Random Forest"
      ],
      "metadata": {
        "id": "sgdnpTeZycNS"
      }
    },
    {
      "cell_type": "code",
      "source": [
        "# Calculate the Importance of the features\n",
        "feature_importance_rf = np.zeros(len(feature_names))\n",
        "feature_importance_rf = np.add(feature_importance_rf, rf_pipeline[-1].feature_importances_)\n",
        "\n",
        "# Sort the features on Importance\n",
        "index_sorted_rf = feature_importance_rf.argsort()\n",
        "print(feature_importance_rf[index_sorted_rf])\n",
        "\n",
        "# Plot the Importance of the features\n",
        "plt.barh(feature_names[index_sorted_rf], feature_importance_rf[index_sorted_rf])\n",
        "plt.xlabel(\"Feature Importance\")\n",
        "plt.title(\"Features sorted by Importance\")\n",
        "plt.show()"
      ],
      "metadata": {
        "colab": {
          "base_uri": "https://localhost:8080/",
          "height": 508
        },
        "id": "r06VOkINyhKV",
        "outputId": "75c0bcdf-7b73-4e20-eb04-72f87ae2362c"
      },
      "execution_count": null,
      "outputs": [
        {
          "output_type": "stream",
          "name": "stdout",
          "text": [
            "[0.01355826 0.0248815  0.05084153 0.07474625 0.18467671 0.19158512\n",
            " 0.45971062]\n"
          ]
        },
        {
          "output_type": "display_data",
          "data": {
            "text/plain": [
              "<Figure size 640x480 with 1 Axes>"
            ],
            "image/png": "[encoded data removed]"
          },
          "metadata": {}
        }
      ]
    },
    {
      "cell_type": "markdown",
      "source": [
        "### SVM"
      ],
      "metadata": {
        "id": "QxS0AKTnuvy3"
      }
    },
    {
      "cell_type": "code",
      "source": [
        "# not given"
      ],
      "metadata": {
        "colab": {
          "base_uri": "https://localhost:8080/",
          "height": 331
        },
        "id": "z2mLfEDwuz4l",
        "outputId": "46774fda-265a-4b43-fcce-141fa937a0b7"
      },
      "execution_count": null,
      "outputs": [
        {
          "output_type": "error",
          "ename": "TypeError",
          "evalue": "ignored",
          "traceback": [
            "\u001b[0;31m---------------------------------------------------------------------------\u001b[0m",
            "\u001b[0;31mTypeError\u001b[0m                                 Traceback (most recent call last)",
            "\u001b[0;32m<ipython-input-53-d5191117018d>\u001b[0m in \u001b[0;36m<cell line: 1>\u001b[0;34m()\u001b[0m\n\u001b[0;32m----> 1\u001b[0;31m \u001b[0mexpl_svm_stroke\u001b[0m \u001b[0;34m=\u001b[0m \u001b[0mshap\u001b[0m\u001b[0;34m.\u001b[0m\u001b[0mExplainer\u001b[0m\u001b[0;34m(\u001b[0m\u001b[0msvm_pipeline\u001b[0m\u001b[0;34m[\u001b[0m\u001b[0;34m-\u001b[0m\u001b[0;36m1\u001b[0m\u001b[0;34m]\u001b[0m\u001b[0;34m,\u001b[0m \u001b[0mX_train_shap\u001b[0m\u001b[0;34m)\u001b[0m\u001b[0;34m\u001b[0m\u001b[0;34m\u001b[0m\u001b[0m\n\u001b[0m\u001b[1;32m      2\u001b[0m \u001b[0mshap_val_svm_stroke\u001b[0m \u001b[0;34m=\u001b[0m \u001b[0mexpl_svm_stroke\u001b[0m\u001b[0;34m(\u001b[0m\u001b[0mX_train_shap\u001b[0m\u001b[0;34m)\u001b[0m\u001b[0;34m\u001b[0m\u001b[0;34m\u001b[0m\u001b[0m\n\u001b[1;32m      3\u001b[0m \u001b[0mshap\u001b[0m\u001b[0;34m.\u001b[0m\u001b[0mplots\u001b[0m\u001b[0;34m.\u001b[0m\u001b[0mbar\u001b[0m\u001b[0;34m(\u001b[0m\u001b[0mshap_val_svm_stroke\u001b[0m\u001b[0;34m)\u001b[0m\u001b[0;34m\u001b[0m\u001b[0;34m\u001b[0m\u001b[0m\n",
            "\u001b[0;32m/usr/local/lib/python3.10/dist-packages/shap/explainers/_explainer.py\u001b[0m in \u001b[0;36m__init__\u001b[0;34m(self, model, masker, link, algorithm, output_names, feature_names, linearize_link, seed, **kwargs)\u001b[0m\n\u001b[1;32m    171\u001b[0m                 \u001b[0;31m# if we get here then we don't know how to handle what was given to us\u001b[0m\u001b[0;34m\u001b[0m\u001b[0;34m\u001b[0m\u001b[0m\n\u001b[1;32m    172\u001b[0m                 \u001b[0;32melse\u001b[0m\u001b[0;34m:\u001b[0m\u001b[0;34m\u001b[0m\u001b[0;34m\u001b[0m\u001b[0m\n\u001b[0;32m--> 173\u001b[0;31m                     \u001b[0;32mraise\u001b[0m \u001b[0mTypeError\u001b[0m\u001b[0;34m(\u001b[0m\u001b[0;34m\"The passed model is not callable and cannot be analyzed directly with the given masker! Model: \"\u001b[0m \u001b[0;34m+\u001b[0m \u001b[0mstr\u001b[0m\u001b[0;34m(\u001b[0m\u001b[0mmodel\u001b[0m\u001b[0;34m)\u001b[0m\u001b[0;34m)\u001b[0m\u001b[0;34m\u001b[0m\u001b[0;34m\u001b[0m\u001b[0m\n\u001b[0m\u001b[1;32m    174\u001b[0m \u001b[0;34m\u001b[0m\u001b[0m\n\u001b[1;32m    175\u001b[0m             \u001b[0;31m# build the right subclass\u001b[0m\u001b[0;34m\u001b[0m\u001b[0;34m\u001b[0m\u001b[0m\n",
            "\u001b[0;31mTypeError\u001b[0m: The passed model is not callable and cannot be analyzed directly with the given masker! Model: SVC(C=1000, gamma=0.01, probability=True, random_state=42)"
          ]
        }
      ]
    },
    {
      "cell_type": "markdown",
      "source": [
        "##Download models"
      ],
      "metadata": {
        "id": "Uui97aoP28If"
      }
    },
    {
      "cell_type": "code",
      "source": [
        "pickle.dump(rf_pipeline,open(\"rf_stroke.pkl\",\"wb\"))"
      ],
      "metadata": {
        "id": "qS-UHSy_27rP"
      },
      "execution_count": null,
      "outputs": []
    },
    {
      "cell_type": "code",
      "source": [
        "pickle.dump(logreg_pipeline,open(\"lr_stroke.pkl\",\"wb\"))"
      ],
      "metadata": {
        "id": "jMpzi48m4xbP"
      },
      "execution_count": null,
      "outputs": []
    },
    {
      "cell_type": "code",
      "source": [
        "pickle.dump(svm_pipeline,open(\"svm_stroke.pkl\",\"wb\"))"
      ],
      "metadata": {
        "id": "JdDuNKsR5Czv"
      },
      "execution_count": null,
      "outputs": []
    }
  ],
  "metadata": {
    "kernelspec": {
      "display_name": "myenv",
      "language": "python",
      "name": "python3"
    },
    "language_info": {
      "codemirror_mode": {
        "name": "ipython",
        "version": 3
      },
      "file_extension": ".py",
      "mimetype": "text/x-python",
      "name": "python",
      "nbconvert_exporter": "python",
      "pygments_lexer": "ipython3",
      "version": "3.11.2"
    },
    "orig_nbformat": 4,
    "colab": {
      "provenance": [],
      "gpuType": "T4"
    },
    "gpuClass": "standard"
  },
  "nbformat": 4,
  "nbformat_minor": 0
}